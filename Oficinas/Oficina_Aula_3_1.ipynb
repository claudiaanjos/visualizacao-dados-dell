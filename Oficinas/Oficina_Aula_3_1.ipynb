{
  "nbformat": 4,
  "nbformat_minor": 0,
  "metadata": {
    "colab": {
      "name": "Oficina-Aula-3.1.ipynb",
      "provenance": []
    },
    "kernelspec": {
      "name": "python3",
      "display_name": "Python 3"
    },
    "language_info": {
      "name": "python"
    }
  },
  "cells": [
    {
      "cell_type": "markdown",
      "metadata": {
        "id": "6Imr55Xtfeyy"
      },
      "source": [
        "Olá! Durante a aula você aprendeu que conhecer a distribuição de uma variável é importante para caracterizar o seu comportamento e encontrar padrões presentes nos dados. Agora é hora de exercitar o que você aprendeu!\n",
        "\n",
        "Nesta oficina, continue explorando os dados imobiliários que você acompanhou durante a aula. Crie um Jupyter Notebook e responda cada questão com código em uma célula."
      ]
    },
    {
      "cell_type": "markdown",
      "metadata": {
        "id": "G0ipOz_Ify8y"
      },
      "source": [
        "1. Importe as bibliotecas pandas, matplotlib e seaborn e use a palavra mágica inline para exibir as visualizações no notebook. Carregue os dados em um DataFrame. Os dados estão disponibilizados no link: dados. Você pode carregar os dados pela URI ou salvar em sua máquina e carregá-los localmente."
      ]
    },
    {
      "cell_type": "code",
      "metadata": {
        "id": "wNbycRcxf1c2"
      },
      "source": [
        "import pandas as pd\n",
        "import matplotlib.pyplot as plt\n",
        "import seaborn as sns"
      ],
      "execution_count": 1,
      "outputs": []
    },
    {
      "cell_type": "code",
      "metadata": {
        "colab": {
          "base_uri": "https://localhost:8080/",
          "height": 206
        },
        "id": "vtXp8YOEf7b6",
        "outputId": "1cc7e241-b44b-42af-9e42-0e4a294256c5"
      },
      "source": [
        "df = pd.read_table('https://d11s0xq1vqg039.cloudfront.net/videos_conteudo/visual/micro05/oficina/arquivos/dadosoficina05.txt', sep=',')\n",
        "df.head()"
      ],
      "execution_count": 2,
      "outputs": [
        {
          "output_type": "execute_result",
          "data": {
            "text/html": [
              "<div>\n",
              "<style scoped>\n",
              "    .dataframe tbody tr th:only-of-type {\n",
              "        vertical-align: middle;\n",
              "    }\n",
              "\n",
              "    .dataframe tbody tr th {\n",
              "        vertical-align: top;\n",
              "    }\n",
              "\n",
              "    .dataframe thead th {\n",
              "        text-align: right;\n",
              "    }\n",
              "</style>\n",
              "<table border=\"1\" class=\"dataframe\">\n",
              "  <thead>\n",
              "    <tr style=\"text-align: right;\">\n",
              "      <th></th>\n",
              "      <th>city</th>\n",
              "      <th>area</th>\n",
              "      <th>rooms</th>\n",
              "      <th>bathroom</th>\n",
              "      <th>parking spaces</th>\n",
              "      <th>floor</th>\n",
              "      <th>animal</th>\n",
              "      <th>furniture</th>\n",
              "      <th>hoa (R$)</th>\n",
              "      <th>rent amount (R$)</th>\n",
              "      <th>property tax (R$)</th>\n",
              "      <th>fire insurance (R$)</th>\n",
              "      <th>total (R$)</th>\n",
              "    </tr>\n",
              "  </thead>\n",
              "  <tbody>\n",
              "    <tr>\n",
              "      <th>0</th>\n",
              "      <td>São Paulo</td>\n",
              "      <td>70</td>\n",
              "      <td>2</td>\n",
              "      <td>1</td>\n",
              "      <td>1</td>\n",
              "      <td>7</td>\n",
              "      <td>acept</td>\n",
              "      <td>furnished</td>\n",
              "      <td>2065</td>\n",
              "      <td>3300</td>\n",
              "      <td>211</td>\n",
              "      <td>42</td>\n",
              "      <td>5618</td>\n",
              "    </tr>\n",
              "    <tr>\n",
              "      <th>1</th>\n",
              "      <td>Porto Alegre</td>\n",
              "      <td>80</td>\n",
              "      <td>1</td>\n",
              "      <td>1</td>\n",
              "      <td>1</td>\n",
              "      <td>6</td>\n",
              "      <td>acept</td>\n",
              "      <td>not furnished</td>\n",
              "      <td>1000</td>\n",
              "      <td>2800</td>\n",
              "      <td>0</td>\n",
              "      <td>41</td>\n",
              "      <td>3841</td>\n",
              "    </tr>\n",
              "    <tr>\n",
              "      <th>2</th>\n",
              "      <td>Porto Alegre</td>\n",
              "      <td>51</td>\n",
              "      <td>2</td>\n",
              "      <td>1</td>\n",
              "      <td>0</td>\n",
              "      <td>2</td>\n",
              "      <td>acept</td>\n",
              "      <td>not furnished</td>\n",
              "      <td>270</td>\n",
              "      <td>1112</td>\n",
              "      <td>22</td>\n",
              "      <td>17</td>\n",
              "      <td>1421</td>\n",
              "    </tr>\n",
              "    <tr>\n",
              "      <th>3</th>\n",
              "      <td>São Paulo</td>\n",
              "      <td>25</td>\n",
              "      <td>1</td>\n",
              "      <td>1</td>\n",
              "      <td>0</td>\n",
              "      <td>1</td>\n",
              "      <td>not acept</td>\n",
              "      <td>not furnished</td>\n",
              "      <td>0</td>\n",
              "      <td>800</td>\n",
              "      <td>25</td>\n",
              "      <td>11</td>\n",
              "      <td>836</td>\n",
              "    </tr>\n",
              "    <tr>\n",
              "      <th>4</th>\n",
              "      <td>Rio de Janeiro</td>\n",
              "      <td>72</td>\n",
              "      <td>2</td>\n",
              "      <td>1</td>\n",
              "      <td>0</td>\n",
              "      <td>7</td>\n",
              "      <td>acept</td>\n",
              "      <td>not furnished</td>\n",
              "      <td>740</td>\n",
              "      <td>1900</td>\n",
              "      <td>85</td>\n",
              "      <td>25</td>\n",
              "      <td>2750</td>\n",
              "    </tr>\n",
              "  </tbody>\n",
              "</table>\n",
              "</div>"
            ],
            "text/plain": [
              "             city  area  ...  fire insurance (R$)  total (R$)\n",
              "0       São Paulo    70  ...                   42        5618\n",
              "1    Porto Alegre    80  ...                   41        3841\n",
              "2    Porto Alegre    51  ...                   17        1421\n",
              "3       São Paulo    25  ...                   11         836\n",
              "4  Rio de Janeiro    72  ...                   25        2750\n",
              "\n",
              "[5 rows x 13 columns]"
            ]
          },
          "metadata": {},
          "execution_count": 2
        }
      ]
    },
    {
      "cell_type": "markdown",
      "metadata": {
        "id": "lo6a0npZgD4E"
      },
      "source": [
        "2. Crie uma visualização que mostre a distribuição dos valores de aluguel, ‘rent amount (R$)’, dos imóveis. Pode utilizar o gráfico que você julgar mais adequado. Qual faixa de valores de aluguel é mais comum?"
      ]
    },
    {
      "cell_type": "code",
      "metadata": {
        "colab": {
          "base_uri": "https://localhost:8080/",
          "height": 336
        },
        "id": "HF-PPWgKgH9Q",
        "outputId": "19b0e8cd-d159-4537-f712-8fab1bc4315d"
      },
      "source": [
        "plt.figure(figsize=(10, 5))\n",
        "plt.title('Distribuição dos valores de aluguel')\n",
        "plt.hist(df['rent amount (R$)'])\n",
        "plt.show()\n",
        "#É mais comum valores abaixo de 2500"
      ],
      "execution_count": 12,
      "outputs": [
        {
          "output_type": "display_data",
          "data": {
            "image/png": "[encoded data removed]",
            "text/plain": [
              "<Figure size 720x360 with 1 Axes>"
            ]
          },
          "metadata": {
            "needs_background": "light"
          }
        }
      ]
    },
    {
      "cell_type": "markdown",
      "metadata": {
        "id": "p4C3jV0zg3xV"
      },
      "source": [
        "3. Crie uma visualização que mostre a distribuição dos valores de seguro contra incêndio, 'fire insurance (R$)', dos imóveis. Existem valores incomuns?"
      ]
    },
    {
      "cell_type": "markdown",
      "metadata": {
        "id": "BfRFgHlyncYf"
      },
      "source": [
        "Sim, existem dados incomuns, conforme dados abaixo."
      ]
    },
    {
      "cell_type": "code",
      "metadata": {
        "colab": {
          "base_uri": "https://localhost:8080/",
          "height": 405
        },
        "id": "2Ei79aLHg4wT",
        "outputId": "358237c2-517e-4c2b-9202-46a298e96563"
      },
      "source": [
        "plt.figure(figsize=(10, 5))\n",
        "plt.title('Distribuição dos valores de seguro contra incêndio dos imóveis')\n",
        "sns.distplot(df['fire insurance (R$)'])\n",
        "plt.show()"
      ],
      "execution_count": 7,
      "outputs": [
        {
          "output_type": "stream",
          "name": "stderr",
          "text": [
            "/usr/local/lib/python3.7/dist-packages/seaborn/distributions.py:2619: FutureWarning: `distplot` is a deprecated function and will be removed in a future version. Please adapt your code to use either `displot` (a figure-level function with similar flexibility) or `histplot` (an axes-level function for histograms).\n",
            "  warnings.warn(msg, FutureWarning)\n"
          ]
        },
        {
          "output_type": "display_data",
          "data": {
            "image/png": "[encoded data removed]",
            "text/plain": [
              "<Figure size 720x360 with 1 Axes>"
            ]
          },
          "metadata": {
            "needs_background": "light"
          }
        }
      ]
    },
    {
      "cell_type": "code",
      "metadata": {
        "colab": {
          "base_uri": "https://localhost:8080/"
        },
        "id": "lJHAfgVAltJ0",
        "outputId": "35bfe1eb-490c-4127-de01-a6300f605c3b"
      },
      "source": [
        "df['fire insurance (R$)'].describe()"
      ],
      "execution_count": 14,
      "outputs": [
        {
          "output_type": "execute_result",
          "data": {
            "text/plain": [
              "count    8204.000000\n",
              "mean       36.510605\n",
              "std        28.121018\n",
              "min         3.000000\n",
              "25%        18.000000\n",
              "50%        28.000000\n",
              "75%        45.000000\n",
              "max       305.000000\n",
              "Name: fire insurance (R$), dtype: float64"
            ]
          },
          "metadata": {},
          "execution_count": 14
        }
      ]
    },
    {
      "cell_type": "code",
      "metadata": {
        "colab": {
          "base_uri": "https://localhost:8080/",
          "height": 339
        },
        "id": "wBH12maJmWFT",
        "outputId": "3a5575b1-f868-4b8f-8fa0-5d0fdfe11bfe"
      },
      "source": [
        "plt.figure(figsize=(10, 5))\n",
        "sns.set_theme(style=\"whitegrid\")\n",
        "ax = sns.boxplot(x=df[\"fire insurance (R$)\"])"
      ],
      "execution_count": 20,
      "outputs": [
        {
          "output_type": "display_data",
          "data": {
            "image/png": "[encoded data removed]",
            "text/plain": [
              "<Figure size 720x360 with 1 Axes>"
            ]
          },
          "metadata": {}
        }
      ]
    }
  ]
}